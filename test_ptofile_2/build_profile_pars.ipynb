{
 "cells": [
  {
   "cell_type": "code",
   "execution_count": 1,
   "metadata": {},
   "outputs": [],
   "source": [
    "import glob"
   ]
  },
  {
   "cell_type": "code",
   "execution_count": 2,
   "metadata": {},
   "outputs": [],
   "source": [
    "def key(s):\n",
    "    return(int(s.split('/')[-1].split('_')[0][1:]))"
   ]
  },
  {
   "cell_type": "code",
   "execution_count": 3,
   "metadata": {},
   "outputs": [],
   "source": [
    "disps = sorted(glob.glob('/Users/yohai/workspace/turky/bo_intf/20230128_20230209/b*_disp.npy'), key=key)\n",
    "lons = sorted(glob.glob('/Users/yohai/workspace/turky/bo_intf/20230128_20230209/b*_lon.npy'), key=key)\n",
    "lats = sorted(glob.glob('/Users/yohai/workspace/turky/bo_intf/20230128_20230209/b*_lat.npy'), key=key)"
   ]
  },
  {
   "cell_type": "code",
   "execution_count": 4,
   "metadata": {},
   "outputs": [],
   "source": [
    "def build_profile_par(disp, lon, lat, heading, k):\n",
    "    return f'''\\t\"profile{k}\":\n",
    "            {{\n",
    "            \"lon\":\"{lon}\",\n",
    "            \"lat\":\"{lat}\",\n",
    "            \"data\":\"{disp}\",\n",
    "            \"heading\":{heading}\n",
    "            }}'''"
   ]
  },
  {
   "cell_type": "code",
   "execution_count": 5,
   "metadata": {},
   "outputs": [],
   "source": [
    "profs = '\"profiles_2\":\\n\\t{\\n'\n",
    "for lon, lat, disp, k in zip(lons, lats, disps, range(len(lons))):\n",
    "    profs += build_profile_par(disp, lon, lat, 193.26, k+1)\n",
    "    profs += ',\\n'\n",
    "profs = profs[:-2] + '\\n\\t}'\n",
    "\n"
   ]
  },
  {
   "cell_type": "code",
   "execution_count": 6,
   "metadata": {},
   "outputs": [
    {
     "name": "stdout",
     "output_type": "stream",
     "text": [
      "\"profiles_2\":\n",
      "\t{\n",
      "\t\"profile1\":\n",
      "            {\n",
      "            \"lon\":\"/Users/yohai/workspace/turky/bo_intf/20230128_20230209/b0_lon.npy\",\n",
      "            \"lat\":\"/Users/yohai/workspace/turky/bo_intf/20230128_20230209/b0_lat.npy\",\n",
      "            \"data\":\"/Users/yohai/workspace/turky/bo_intf/20230128_20230209/b0_disp.npy\",\n",
      "            \"heading\":193.26\n",
      "            },\n",
      "\t\"profile2\":\n",
      "            {\n",
      "            \"lon\":\"/Users/yohai/workspace/turky/bo_intf/20230128_20230209/b1_lon.npy\",\n",
      "            \"lat\":\"/Users/yohai/workspace/turky/bo_intf/20230128_20230209/b1_lat.npy\",\n",
      "            \"data\":\"/Users/yohai/workspace/turky/bo_intf/20230128_20230209/b1_disp.npy\",\n",
      "            \"heading\":193.26\n",
      "            },\n",
      "\t\"profile3\":\n",
      "            {\n",
      "            \"lon\":\"/Users/yohai/workspace/turky/bo_intf/20230128_20230209/b2_lon.npy\",\n",
      "            \"lat\":\"/Users/yohai/workspace/turky/bo_intf/20230128_20230209/b2_lat.npy\",\n",
      "            \"data\":\"/Users/yohai/workspace/turky/bo_intf/20230128_20230209/b2_disp.npy\",\n",
      "            \"heading\":193.26\n",
      "            },\n",
      "\t\"profile4\":\n",
      "            {\n",
      "            \"lon\":\"/Users/yohai/workspace/turky/bo_intf/20230128_20230209/b3_lon.npy\",\n",
      "            \"lat\":\"/Users/yohai/workspace/turky/bo_intf/20230128_20230209/b3_lat.npy\",\n",
      "            \"data\":\"/Users/yohai/workspace/turky/bo_intf/20230128_20230209/b3_disp.npy\",\n",
      "            \"heading\":193.26\n",
      "            },\n",
      "\t\"profile5\":\n",
      "            {\n",
      "            \"lon\":\"/Users/yohai/workspace/turky/bo_intf/20230128_20230209/b4_lon.npy\",\n",
      "            \"lat\":\"/Users/yohai/workspace/turky/bo_intf/20230128_20230209/b4_lat.npy\",\n",
      "            \"data\":\"/Users/yohai/workspace/turky/bo_intf/20230128_20230209/b4_disp.npy\",\n",
      "            \"heading\":193.26\n",
      "            },\n",
      "\t\"profile6\":\n",
      "            {\n",
      "            \"lon\":\"/Users/yohai/workspace/turky/bo_intf/20230128_20230209/b5_lon.npy\",\n",
      "            \"lat\":\"/Users/yohai/workspace/turky/bo_intf/20230128_20230209/b5_lat.npy\",\n",
      "            \"data\":\"/Users/yohai/workspace/turky/bo_intf/20230128_20230209/b5_disp.npy\",\n",
      "            \"heading\":193.26\n",
      "            },\n",
      "\t\"profile7\":\n",
      "            {\n",
      "            \"lon\":\"/Users/yohai/workspace/turky/bo_intf/20230128_20230209/b6_lon.npy\",\n",
      "            \"lat\":\"/Users/yohai/workspace/turky/bo_intf/20230128_20230209/b6_lat.npy\",\n",
      "            \"data\":\"/Users/yohai/workspace/turky/bo_intf/20230128_20230209/b6_disp.npy\",\n",
      "            \"heading\":193.26\n",
      "            },\n",
      "\t\"profile8\":\n",
      "            {\n",
      "            \"lon\":\"/Users/yohai/workspace/turky/bo_intf/20230128_20230209/b7_lon.npy\",\n",
      "            \"lat\":\"/Users/yohai/workspace/turky/bo_intf/20230128_20230209/b7_lat.npy\",\n",
      "            \"data\":\"/Users/yohai/workspace/turky/bo_intf/20230128_20230209/b7_disp.npy\",\n",
      "            \"heading\":193.26\n",
      "            },\n",
      "\t\"profile9\":\n",
      "            {\n",
      "            \"lon\":\"/Users/yohai/workspace/turky/bo_intf/20230128_20230209/b8_lon.npy\",\n",
      "            \"lat\":\"/Users/yohai/workspace/turky/bo_intf/20230128_20230209/b8_lat.npy\",\n",
      "            \"data\":\"/Users/yohai/workspace/turky/bo_intf/20230128_20230209/b8_disp.npy\",\n",
      "            \"heading\":193.26\n",
      "            },\n",
      "\t\"profile10\":\n",
      "            {\n",
      "            \"lon\":\"/Users/yohai/workspace/turky/bo_intf/20230128_20230209/b9_lon.npy\",\n",
      "            \"lat\":\"/Users/yohai/workspace/turky/bo_intf/20230128_20230209/b9_lat.npy\",\n",
      "            \"data\":\"/Users/yohai/workspace/turky/bo_intf/20230128_20230209/b9_disp.npy\",\n",
      "            \"heading\":193.26\n",
      "            },\n",
      "\t\"profile11\":\n",
      "            {\n",
      "            \"lon\":\"/Users/yohai/workspace/turky/bo_intf/20230128_20230209/b10_lon.npy\",\n",
      "            \"lat\":\"/Users/yohai/workspace/turky/bo_intf/20230128_20230209/b10_lat.npy\",\n",
      "            \"data\":\"/Users/yohai/workspace/turky/bo_intf/20230128_20230209/b10_disp.npy\",\n",
      "            \"heading\":193.26\n",
      "            }\n",
      "\t}\n"
     ]
    }
   ],
   "source": [
    "print(profs)"
   ]
  },
  {
   "cell_type": "code",
   "execution_count": 7,
   "metadata": {},
   "outputs": [],
   "source": [
    "disps = sorted(glob.glob('/Users/yohai/workspace/turky/bo_intf/20230129_20230210/b*_disp.npy'), key=key)\n",
    "lons = sorted(glob.glob('/Users/yohai/workspace/turky/bo_intf/20230129_20230210/b*_lon.npy'), key=key)\n",
    "lats = sorted(glob.glob('/Users/yohai/workspace/turky/bo_intf/20230129_20230210/b*_lat.npy'), key=key)"
   ]
  },
  {
   "cell_type": "code",
   "execution_count": 10,
   "metadata": {},
   "outputs": [],
   "source": [
    "profs = '\"profiles_2\":\\n\\t{\\n'\n",
    "for lon, lat, disp, k in zip(lons, lats, disps, range(len(lons))):\n",
    "    profs += build_profile_par(disp, lon, lat, -13.26, k+12)\n",
    "    profs += ',\\n'\n",
    "profs = profs[:-2] + '\\n\\t}'\n",
    "\n"
   ]
  },
  {
   "cell_type": "code",
   "execution_count": 11,
   "metadata": {},
   "outputs": [
    {
     "name": "stdout",
     "output_type": "stream",
     "text": [
      "\"profiles_2\":\n",
      "\t{\n",
      "\t\"profile12\":\n",
      "            {\n",
      "            \"lon\":\"/Users/yohai/workspace/turky/bo_intf/20230129_20230210/b6_lon.npy\",\n",
      "            \"lat\":\"/Users/yohai/workspace/turky/bo_intf/20230129_20230210/b6_lat.npy\",\n",
      "            \"data\":\"/Users/yohai/workspace/turky/bo_intf/20230129_20230210/b6_disp.npy\",\n",
      "            \"heading\":-13.26\n",
      "            },\n",
      "\t\"profile13\":\n",
      "            {\n",
      "            \"lon\":\"/Users/yohai/workspace/turky/bo_intf/20230129_20230210/b7_lon.npy\",\n",
      "            \"lat\":\"/Users/yohai/workspace/turky/bo_intf/20230129_20230210/b7_lat.npy\",\n",
      "            \"data\":\"/Users/yohai/workspace/turky/bo_intf/20230129_20230210/b7_disp.npy\",\n",
      "            \"heading\":-13.26\n",
      "            },\n",
      "\t\"profile14\":\n",
      "            {\n",
      "            \"lon\":\"/Users/yohai/workspace/turky/bo_intf/20230129_20230210/b8_lon.npy\",\n",
      "            \"lat\":\"/Users/yohai/workspace/turky/bo_intf/20230129_20230210/b8_lat.npy\",\n",
      "            \"data\":\"/Users/yohai/workspace/turky/bo_intf/20230129_20230210/b8_disp.npy\",\n",
      "            \"heading\":-13.26\n",
      "            },\n",
      "\t\"profile15\":\n",
      "            {\n",
      "            \"lon\":\"/Users/yohai/workspace/turky/bo_intf/20230129_20230210/b9_lon.npy\",\n",
      "            \"lat\":\"/Users/yohai/workspace/turky/bo_intf/20230129_20230210/b9_lat.npy\",\n",
      "            \"data\":\"/Users/yohai/workspace/turky/bo_intf/20230129_20230210/b9_disp.npy\",\n",
      "            \"heading\":-13.26\n",
      "            },\n",
      "\t\"profile16\":\n",
      "            {\n",
      "            \"lon\":\"/Users/yohai/workspace/turky/bo_intf/20230129_20230210/b10_lon.npy\",\n",
      "            \"lat\":\"/Users/yohai/workspace/turky/bo_intf/20230129_20230210/b10_lat.npy\",\n",
      "            \"data\":\"/Users/yohai/workspace/turky/bo_intf/20230129_20230210/b10_disp.npy\",\n",
      "            \"heading\":-13.26\n",
      "            },\n",
      "\t\"profile17\":\n",
      "            {\n",
      "            \"lon\":\"/Users/yohai/workspace/turky/bo_intf/20230129_20230210/b11_lon.npy\",\n",
      "            \"lat\":\"/Users/yohai/workspace/turky/bo_intf/20230129_20230210/b11_lat.npy\",\n",
      "            \"data\":\"/Users/yohai/workspace/turky/bo_intf/20230129_20230210/b11_disp.npy\",\n",
      "            \"heading\":-13.26\n",
      "            },\n",
      "\t\"profile18\":\n",
      "            {\n",
      "            \"lon\":\"/Users/yohai/workspace/turky/bo_intf/20230129_20230210/b12_lon.npy\",\n",
      "            \"lat\":\"/Users/yohai/workspace/turky/bo_intf/20230129_20230210/b12_lat.npy\",\n",
      "            \"data\":\"/Users/yohai/workspace/turky/bo_intf/20230129_20230210/b12_disp.npy\",\n",
      "            \"heading\":-13.26\n",
      "            },\n",
      "\t\"profile19\":\n",
      "            {\n",
      "            \"lon\":\"/Users/yohai/workspace/turky/bo_intf/20230129_20230210/b13_lon.npy\",\n",
      "            \"lat\":\"/Users/yohai/workspace/turky/bo_intf/20230129_20230210/b13_lat.npy\",\n",
      "            \"data\":\"/Users/yohai/workspace/turky/bo_intf/20230129_20230210/b13_disp.npy\",\n",
      "            \"heading\":-13.26\n",
      "            },\n",
      "\t\"profile20\":\n",
      "            {\n",
      "            \"lon\":\"/Users/yohai/workspace/turky/bo_intf/20230129_20230210/b14_lon.npy\",\n",
      "            \"lat\":\"/Users/yohai/workspace/turky/bo_intf/20230129_20230210/b14_lat.npy\",\n",
      "            \"data\":\"/Users/yohai/workspace/turky/bo_intf/20230129_20230210/b14_disp.npy\",\n",
      "            \"heading\":-13.26\n",
      "            },\n",
      "\t\"profile21\":\n",
      "            {\n",
      "            \"lon\":\"/Users/yohai/workspace/turky/bo_intf/20230129_20230210/b15_lon.npy\",\n",
      "            \"lat\":\"/Users/yohai/workspace/turky/bo_intf/20230129_20230210/b15_lat.npy\",\n",
      "            \"data\":\"/Users/yohai/workspace/turky/bo_intf/20230129_20230210/b15_disp.npy\",\n",
      "            \"heading\":-13.26\n",
      "            },\n",
      "\t\"profile22\":\n",
      "            {\n",
      "            \"lon\":\"/Users/yohai/workspace/turky/bo_intf/20230129_20230210/b16_lon.npy\",\n",
      "            \"lat\":\"/Users/yohai/workspace/turky/bo_intf/20230129_20230210/b16_lat.npy\",\n",
      "            \"data\":\"/Users/yohai/workspace/turky/bo_intf/20230129_20230210/b16_disp.npy\",\n",
      "            \"heading\":-13.26\n",
      "            },\n",
      "\t\"profile23\":\n",
      "            {\n",
      "            \"lon\":\"/Users/yohai/workspace/turky/bo_intf/20230129_20230210/b17_lon.npy\",\n",
      "            \"lat\":\"/Users/yohai/workspace/turky/bo_intf/20230129_20230210/b17_lat.npy\",\n",
      "            \"data\":\"/Users/yohai/workspace/turky/bo_intf/20230129_20230210/b17_disp.npy\",\n",
      "            \"heading\":-13.26\n",
      "            },\n",
      "\t\"profile24\":\n",
      "            {\n",
      "            \"lon\":\"/Users/yohai/workspace/turky/bo_intf/20230129_20230210/b18_lon.npy\",\n",
      "            \"lat\":\"/Users/yohai/workspace/turky/bo_intf/20230129_20230210/b18_lat.npy\",\n",
      "            \"data\":\"/Users/yohai/workspace/turky/bo_intf/20230129_20230210/b18_disp.npy\",\n",
      "            \"heading\":-13.26\n",
      "            }\n",
      "\t}\n"
     ]
    }
   ],
   "source": [
    "print(profs)"
   ]
  },
  {
   "cell_type": "code",
   "execution_count": null,
   "metadata": {},
   "outputs": [],
   "source": []
  }
 ],
 "metadata": {
  "kernelspec": {
   "display_name": "ibaraki_proj",
   "language": "python",
   "name": "python3"
  },
  "language_info": {
   "codemirror_mode": {
    "name": "ipython",
    "version": 3
   },
   "file_extension": ".py",
   "mimetype": "text/x-python",
   "name": "python",
   "nbconvert_exporter": "python",
   "pygments_lexer": "ipython3",
   "version": "3.10.1"
  },
  "orig_nbformat": 4,
  "vscode": {
   "interpreter": {
    "hash": "609b1dc7db13afcb099fa48ffb4472cf3d0b4905b9dbfcc0a5ee5bfaf7c1a5a2"
   }
  }
 },
 "nbformat": 4,
 "nbformat_minor": 2
}
